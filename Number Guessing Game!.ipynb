{
 "cells": [
  {
   "cell_type": "code",
   "execution_count": null,
   "id": "66fbc2c0",
   "metadata": {},
   "outputs": [
    {
     "name": "stdout",
     "output_type": "stream",
     "text": [
      "Welcome to the Number Guessing Game!\n",
      "I'm thinking of a number between 0 and 100.\n",
      "choose a difficulty. Type 'easy' or 'hard'easy\n",
      "You have 10 attempts remaining to guess the number.\n"
     ]
    }
   ],
   "source": [
    "from random import randint\n",
    "EASY_LEVEL_TURNS = 10\n",
    "HARD_LEVEL_TURNS = 5\n",
    "# function to check user's guess against actual guessed number\n",
    "def check_answer(guess, answer, turns):\n",
    "    \"\"\"\"checks answer against guess, Returns the number of turns remaining.\"\"\"\n",
    "    if guess>answer:\n",
    "        print(\"Too high.\")\n",
    "        return turns - 1\n",
    "    elif guess<answer:\n",
    "        print(\"Too low.\")\n",
    "        return turns -1\n",
    "    else:\n",
    "        print(f\"You got it! The number was {answer}.\")\n",
    "#make function to set difficulty\n",
    "def set_difficulty():\n",
    "    level = input(\"choose a difficulty. Type 'easy' or 'hard'\")\n",
    "    if level == \"easy\":\n",
    "        return EASY_LEVEL_TURNS\n",
    "    else:\n",
    "        return HARD_LEVEL_TURNS\n",
    "def game():\n",
    "#choosing a random number between 1 and 100        \n",
    "    print(\"Welcome to the Number Guessing Game!\")\n",
    "    print(\"I'm thinking of a number between 0 and 100.\")\n",
    "    answer = randint(1,100)\n",
    "    \n",
    "    turns = set_difficulty()\n",
    "#repeat the guessing functionality if they get it wrong\n",
    "    guess = 0\n",
    "    while guess != answer:\n",
    "        print(f\"You have {turns} attempts remaining to guess the number.\")\n",
    "#let the user guess a number\n",
    "        guess = int(input(\"Make a guess! \"))\n",
    "# track the number of turns and reduce by 1, if they get it wrong      \n",
    "        turns = check_answer(guess, answer, turns)\n",
    "        if turns == 0:\n",
    "            print(\"You've run out of guesses, you lose.\")\n",
    "            return\n",
    "        elif guess != answer:\n",
    "            print(\"Guess again.\")    \n",
    "game()"
   ]
  },
  {
   "cell_type": "code",
   "execution_count": null,
   "id": "c39b9dfb",
   "metadata": {},
   "outputs": [],
   "source": []
  }
 ],
 "metadata": {
  "kernelspec": {
   "display_name": "Python 3 (ipykernel)",
   "language": "python",
   "name": "python3"
  },
  "language_info": {
   "codemirror_mode": {
    "name": "ipython",
    "version": 3
   },
   "file_extension": ".py",
   "mimetype": "text/x-python",
   "name": "python",
   "nbconvert_exporter": "python",
   "pygments_lexer": "ipython3",
   "version": "3.9.12"
  }
 },
 "nbformat": 4,
 "nbformat_minor": 5
}
